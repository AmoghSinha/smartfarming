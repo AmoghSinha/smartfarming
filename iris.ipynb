{
  "nbformat": 4,
  "nbformat_minor": 0,
  "metadata": {
    "colab": {
      "name": "iris.ipynb",
      "provenance": [],
      "authorship_tag": "ABX9TyPZij8JvayYwNZIor2RnrJH",
      "include_colab_link": true
    },
    "kernelspec": {
      "name": "python3",
      "display_name": "Python 3"
    },
    "language_info": {
      "name": "python"
    }
  },
  "cells": [
    {
      "cell_type": "markdown",
      "metadata": {
        "id": "view-in-github",
        "colab_type": "text"
      },
      "source": [
        "<a href=\"https://colab.research.google.com/github/AmoghSinha/smartfarming/blob/main/iris.ipynb\" target=\"_parent\"><img src=\"https://colab.research.google.com/assets/colab-badge.svg\" alt=\"Open In Colab\"/></a>"
      ]
    },
    {
      "cell_type": "code",
      "metadata": {
        "id": "8-OWbFDvmJvP"
      },
      "source": [
        "import pandas as pd\n",
        "import numpy as np\n",
        "import os\n",
        "import matplotlib.pyplot as plt\n",
        "from matplotlib import style\n",
        "from sklearn.preprocessing import LabelEncoder\n",
        "from sklearn.model_selection import train_test_split\n",
        "import tensorflow as tf\n",
        "from tensorflow import keras\n",
        "from tensorflow.keras.models import Sequential\n",
        "style.use('ggplot')"
      ],
      "execution_count": 71,
      "outputs": []
    },
    {
      "cell_type": "code",
      "metadata": {
        "colab": {
          "base_uri": "https://localhost:8080/"
        },
        "id": "dtGWYCNgm5YB",
        "outputId": "61939397-2923-4b60-eb26-64e907be82bb"
      },
      "source": [
        "from google.colab import drive\n",
        "drive.mount('/content/drive')"
      ],
      "execution_count": 16,
      "outputs": [
        {
          "output_type": "stream",
          "name": "stdout",
          "text": [
            "Drive already mounted at /content/drive; to attempt to forcibly remount, call drive.mount(\"/content/drive\", force_remount=True).\n"
          ]
        }
      ]
    },
    {
      "cell_type": "code",
      "metadata": {
        "id": "tAEIvnalmNsw"
      },
      "source": [
        "FILE_path = 'drive/My Drive/Colab Notebooks/IRIS.csv'\n",
        "iris_data = pd.read_csv(FILE_path, header=0)"
      ],
      "execution_count": 34,
      "outputs": []
    },
    {
      "cell_type": "code",
      "metadata": {
        "colab": {
          "base_uri": "https://localhost:8080/"
        },
        "id": "q5jBW2Tepelh",
        "outputId": "0b13ed59-52b4-45fc-9db2-8f994d3b5ed1"
      },
      "source": [
        "iris_data.info()"
      ],
      "execution_count": 35,
      "outputs": [
        {
          "output_type": "stream",
          "name": "stdout",
          "text": [
            "<class 'pandas.core.frame.DataFrame'>\n",
            "RangeIndex: 150 entries, 0 to 149\n",
            "Data columns (total 5 columns):\n",
            " #   Column        Non-Null Count  Dtype  \n",
            "---  ------        --------------  -----  \n",
            " 0   sepal_length  150 non-null    float64\n",
            " 1   sepal_width   150 non-null    float64\n",
            " 2   petal_length  150 non-null    float64\n",
            " 3   petal_width   150 non-null    float64\n",
            " 4   species       150 non-null    object \n",
            "dtypes: float64(4), object(1)\n",
            "memory usage: 6.0+ KB\n"
          ]
        }
      ]
    },
    {
      "cell_type": "code",
      "metadata": {
        "colab": {
          "base_uri": "https://localhost:8080/",
          "height": 357
        },
        "id": "NA1EcwUrp7wp",
        "outputId": "b8a1a0f4-d2d8-4d35-ab26-366b943a723c"
      },
      "source": [
        "iris_data.head(10)"
      ],
      "execution_count": 36,
      "outputs": [
        {
          "output_type": "execute_result",
          "data": {
            "text/html": [
              "<div>\n",
              "<style scoped>\n",
              "    .dataframe tbody tr th:only-of-type {\n",
              "        vertical-align: middle;\n",
              "    }\n",
              "\n",
              "    .dataframe tbody tr th {\n",
              "        vertical-align: top;\n",
              "    }\n",
              "\n",
              "    .dataframe thead th {\n",
              "        text-align: right;\n",
              "    }\n",
              "</style>\n",
              "<table border=\"1\" class=\"dataframe\">\n",
              "  <thead>\n",
              "    <tr style=\"text-align: right;\">\n",
              "      <th></th>\n",
              "      <th>sepal_length</th>\n",
              "      <th>sepal_width</th>\n",
              "      <th>petal_length</th>\n",
              "      <th>petal_width</th>\n",
              "      <th>species</th>\n",
              "    </tr>\n",
              "  </thead>\n",
              "  <tbody>\n",
              "    <tr>\n",
              "      <th>0</th>\n",
              "      <td>5.1</td>\n",
              "      <td>3.5</td>\n",
              "      <td>1.4</td>\n",
              "      <td>0.2</td>\n",
              "      <td>Iris-setosa</td>\n",
              "    </tr>\n",
              "    <tr>\n",
              "      <th>1</th>\n",
              "      <td>4.9</td>\n",
              "      <td>3.0</td>\n",
              "      <td>1.4</td>\n",
              "      <td>0.2</td>\n",
              "      <td>Iris-setosa</td>\n",
              "    </tr>\n",
              "    <tr>\n",
              "      <th>2</th>\n",
              "      <td>4.7</td>\n",
              "      <td>3.2</td>\n",
              "      <td>1.3</td>\n",
              "      <td>0.2</td>\n",
              "      <td>Iris-setosa</td>\n",
              "    </tr>\n",
              "    <tr>\n",
              "      <th>3</th>\n",
              "      <td>4.6</td>\n",
              "      <td>3.1</td>\n",
              "      <td>1.5</td>\n",
              "      <td>0.2</td>\n",
              "      <td>Iris-setosa</td>\n",
              "    </tr>\n",
              "    <tr>\n",
              "      <th>4</th>\n",
              "      <td>5.0</td>\n",
              "      <td>3.6</td>\n",
              "      <td>1.4</td>\n",
              "      <td>0.2</td>\n",
              "      <td>Iris-setosa</td>\n",
              "    </tr>\n",
              "    <tr>\n",
              "      <th>5</th>\n",
              "      <td>5.4</td>\n",
              "      <td>3.9</td>\n",
              "      <td>1.7</td>\n",
              "      <td>0.4</td>\n",
              "      <td>Iris-setosa</td>\n",
              "    </tr>\n",
              "    <tr>\n",
              "      <th>6</th>\n",
              "      <td>4.6</td>\n",
              "      <td>3.4</td>\n",
              "      <td>1.4</td>\n",
              "      <td>0.3</td>\n",
              "      <td>Iris-setosa</td>\n",
              "    </tr>\n",
              "    <tr>\n",
              "      <th>7</th>\n",
              "      <td>5.0</td>\n",
              "      <td>3.4</td>\n",
              "      <td>1.5</td>\n",
              "      <td>0.2</td>\n",
              "      <td>Iris-setosa</td>\n",
              "    </tr>\n",
              "    <tr>\n",
              "      <th>8</th>\n",
              "      <td>4.4</td>\n",
              "      <td>2.9</td>\n",
              "      <td>1.4</td>\n",
              "      <td>0.2</td>\n",
              "      <td>Iris-setosa</td>\n",
              "    </tr>\n",
              "    <tr>\n",
              "      <th>9</th>\n",
              "      <td>4.9</td>\n",
              "      <td>3.1</td>\n",
              "      <td>1.5</td>\n",
              "      <td>0.1</td>\n",
              "      <td>Iris-setosa</td>\n",
              "    </tr>\n",
              "  </tbody>\n",
              "</table>\n",
              "</div>"
            ],
            "text/plain": [
              "   sepal_length  sepal_width  petal_length  petal_width      species\n",
              "0           5.1          3.5           1.4          0.2  Iris-setosa\n",
              "1           4.9          3.0           1.4          0.2  Iris-setosa\n",
              "2           4.7          3.2           1.3          0.2  Iris-setosa\n",
              "3           4.6          3.1           1.5          0.2  Iris-setosa\n",
              "4           5.0          3.6           1.4          0.2  Iris-setosa\n",
              "5           5.4          3.9           1.7          0.4  Iris-setosa\n",
              "6           4.6          3.4           1.4          0.3  Iris-setosa\n",
              "7           5.0          3.4           1.5          0.2  Iris-setosa\n",
              "8           4.4          2.9           1.4          0.2  Iris-setosa\n",
              "9           4.9          3.1           1.5          0.1  Iris-setosa"
            ]
          },
          "metadata": {},
          "execution_count": 36
        }
      ]
    },
    {
      "cell_type": "code",
      "metadata": {
        "id": "AoyT63Dyp-uj"
      },
      "source": [
        "X = iris_data.copy()\n",
        "X.drop('species', axis=1, inplace=True)"
      ],
      "execution_count": 37,
      "outputs": []
    },
    {
      "cell_type": "code",
      "metadata": {
        "colab": {
          "base_uri": "https://localhost:8080/",
          "height": 203
        },
        "id": "3iLF1LNNqY_J",
        "outputId": "68909523-6e04-4c56-bae6-9a344f30db56"
      },
      "source": [
        "X.head()"
      ],
      "execution_count": 38,
      "outputs": [
        {
          "output_type": "execute_result",
          "data": {
            "text/html": [
              "<div>\n",
              "<style scoped>\n",
              "    .dataframe tbody tr th:only-of-type {\n",
              "        vertical-align: middle;\n",
              "    }\n",
              "\n",
              "    .dataframe tbody tr th {\n",
              "        vertical-align: top;\n",
              "    }\n",
              "\n",
              "    .dataframe thead th {\n",
              "        text-align: right;\n",
              "    }\n",
              "</style>\n",
              "<table border=\"1\" class=\"dataframe\">\n",
              "  <thead>\n",
              "    <tr style=\"text-align: right;\">\n",
              "      <th></th>\n",
              "      <th>sepal_length</th>\n",
              "      <th>sepal_width</th>\n",
              "      <th>petal_length</th>\n",
              "      <th>petal_width</th>\n",
              "    </tr>\n",
              "  </thead>\n",
              "  <tbody>\n",
              "    <tr>\n",
              "      <th>0</th>\n",
              "      <td>5.1</td>\n",
              "      <td>3.5</td>\n",
              "      <td>1.4</td>\n",
              "      <td>0.2</td>\n",
              "    </tr>\n",
              "    <tr>\n",
              "      <th>1</th>\n",
              "      <td>4.9</td>\n",
              "      <td>3.0</td>\n",
              "      <td>1.4</td>\n",
              "      <td>0.2</td>\n",
              "    </tr>\n",
              "    <tr>\n",
              "      <th>2</th>\n",
              "      <td>4.7</td>\n",
              "      <td>3.2</td>\n",
              "      <td>1.3</td>\n",
              "      <td>0.2</td>\n",
              "    </tr>\n",
              "    <tr>\n",
              "      <th>3</th>\n",
              "      <td>4.6</td>\n",
              "      <td>3.1</td>\n",
              "      <td>1.5</td>\n",
              "      <td>0.2</td>\n",
              "    </tr>\n",
              "    <tr>\n",
              "      <th>4</th>\n",
              "      <td>5.0</td>\n",
              "      <td>3.6</td>\n",
              "      <td>1.4</td>\n",
              "      <td>0.2</td>\n",
              "    </tr>\n",
              "  </tbody>\n",
              "</table>\n",
              "</div>"
            ],
            "text/plain": [
              "   sepal_length  sepal_width  petal_length  petal_width\n",
              "0           5.1          3.5           1.4          0.2\n",
              "1           4.9          3.0           1.4          0.2\n",
              "2           4.7          3.2           1.3          0.2\n",
              "3           4.6          3.1           1.5          0.2\n",
              "4           5.0          3.6           1.4          0.2"
            ]
          },
          "metadata": {},
          "execution_count": 38
        }
      ]
    },
    {
      "cell_type": "code",
      "metadata": {
        "colab": {
          "base_uri": "https://localhost:8080/",
          "height": 203
        },
        "id": "R0mgbbnKqiAe",
        "outputId": "ed973b6d-8c74-444c-a368-9898a02ca268"
      },
      "source": [
        "y = iris_data[['species']]\n",
        "y.head()"
      ],
      "execution_count": 41,
      "outputs": [
        {
          "output_type": "execute_result",
          "data": {
            "text/html": [
              "<div>\n",
              "<style scoped>\n",
              "    .dataframe tbody tr th:only-of-type {\n",
              "        vertical-align: middle;\n",
              "    }\n",
              "\n",
              "    .dataframe tbody tr th {\n",
              "        vertical-align: top;\n",
              "    }\n",
              "\n",
              "    .dataframe thead th {\n",
              "        text-align: right;\n",
              "    }\n",
              "</style>\n",
              "<table border=\"1\" class=\"dataframe\">\n",
              "  <thead>\n",
              "    <tr style=\"text-align: right;\">\n",
              "      <th></th>\n",
              "      <th>species</th>\n",
              "    </tr>\n",
              "  </thead>\n",
              "  <tbody>\n",
              "    <tr>\n",
              "      <th>0</th>\n",
              "      <td>Iris-setosa</td>\n",
              "    </tr>\n",
              "    <tr>\n",
              "      <th>1</th>\n",
              "      <td>Iris-setosa</td>\n",
              "    </tr>\n",
              "    <tr>\n",
              "      <th>2</th>\n",
              "      <td>Iris-setosa</td>\n",
              "    </tr>\n",
              "    <tr>\n",
              "      <th>3</th>\n",
              "      <td>Iris-setosa</td>\n",
              "    </tr>\n",
              "    <tr>\n",
              "      <th>4</th>\n",
              "      <td>Iris-setosa</td>\n",
              "    </tr>\n",
              "  </tbody>\n",
              "</table>\n",
              "</div>"
            ],
            "text/plain": [
              "       species\n",
              "0  Iris-setosa\n",
              "1  Iris-setosa\n",
              "2  Iris-setosa\n",
              "3  Iris-setosa\n",
              "4  Iris-setosa"
            ]
          },
          "metadata": {},
          "execution_count": 41
        }
      ]
    },
    {
      "cell_type": "code",
      "metadata": {
        "colab": {
          "base_uri": "https://localhost:8080/"
        },
        "id": "7X0oc3NxqwrM",
        "outputId": "8c9e5e7e-9b76-420a-f2c6-b59541af5c4d"
      },
      "source": [
        "y_enc = LabelEncoder().fit_transform(y)\n",
        "y_label = tf.keras.utils.to_categorical(y_enc)"
      ],
      "execution_count": 44,
      "outputs": [
        {
          "output_type": "stream",
          "name": "stderr",
          "text": [
            "/usr/local/lib/python3.7/dist-packages/sklearn/preprocessing/_label.py:251: DataConversionWarning: A column-vector y was passed when a 1d array was expected. Please change the shape of y to (n_samples, ), for example using ravel().\n",
            "  y = column_or_1d(y, warn=True)\n"
          ]
        }
      ]
    },
    {
      "cell_type": "code",
      "metadata": {
        "id": "Ba13ED5CrYxe"
      },
      "source": [
        "X_train, X_test, y_train, y_test = train_test_split(X, y_label, test_size=0.3)"
      ],
      "execution_count": 45,
      "outputs": []
    },
    {
      "cell_type": "code",
      "metadata": {
        "colab": {
          "base_uri": "https://localhost:8080/"
        },
        "id": "3eMtbZ_1rhPn",
        "outputId": "07f07a8e-a733-4ab6-c50e-7f0fe2ea2ef2"
      },
      "source": [
        "print(X_train.shape)\n",
        "print(y_train.shape)"
      ],
      "execution_count": 46,
      "outputs": [
        {
          "output_type": "stream",
          "name": "stdout",
          "text": [
            "(105, 4)\n",
            "(105, 3)\n"
          ]
        }
      ]
    },
    {
      "cell_type": "code",
      "metadata": {
        "id": "zbN7zG4Arv5p"
      },
      "source": [
        "def get_model():\n",
        "    model = Sequential([\n",
        "        keras.layers.Input(shape=X_train.shape[1:]),\n",
        "        keras.layers.Dense(1000, activation='relu'),\n",
        "        keras.layers.Dense(500, activation='relu',),\n",
        "        keras.layers.Dense(300, activation='relu'),\n",
        "        keras.layers.Dropout(0.2),\n",
        "        keras.layers.Dense(3, activation='softmax')\n",
        "    ])\n",
        "    \n",
        "    return model"
      ],
      "execution_count": 47,
      "outputs": []
    },
    {
      "cell_type": "code",
      "metadata": {
        "colab": {
          "base_uri": "https://localhost:8080/"
        },
        "id": "z5SkN5gjryzA",
        "outputId": "c5392e6d-26f6-4da4-cb7d-efc30297e691"
      },
      "source": [
        "model = get_model()\n",
        "model.summary()"
      ],
      "execution_count": 49,
      "outputs": [
        {
          "output_type": "stream",
          "name": "stdout",
          "text": [
            "Model: \"sequential\"\n",
            "_________________________________________________________________\n",
            "Layer (type)                 Output Shape              Param #   \n",
            "=================================================================\n",
            "dense (Dense)                (None, 1000)              5000      \n",
            "_________________________________________________________________\n",
            "dense_1 (Dense)              (None, 500)               500500    \n",
            "_________________________________________________________________\n",
            "dense_2 (Dense)              (None, 300)               150300    \n",
            "_________________________________________________________________\n",
            "dropout (Dropout)            (None, 300)               0         \n",
            "_________________________________________________________________\n",
            "dense_3 (Dense)              (None, 3)                 903       \n",
            "=================================================================\n",
            "Total params: 656,703\n",
            "Trainable params: 656,703\n",
            "Non-trainable params: 0\n",
            "_________________________________________________________________\n"
          ]
        }
      ]
    },
    {
      "cell_type": "code",
      "metadata": {
        "id": "mGgh81evrzsF"
      },
      "source": [
        "model = get_model()\n",
        "model.compile(optimizer='adam', \n",
        "              loss=keras.losses.CategoricalCrossentropy(),\n",
        "             metrics=['accuracy'])"
      ],
      "execution_count": 50,
      "outputs": []
    },
    {
      "cell_type": "code",
      "metadata": {
        "colab": {
          "base_uri": "https://localhost:8080/"
        },
        "id": "bfbVgz7Lr7tK",
        "outputId": "d32e758e-58ee-469b-ce5b-7fd4076b9daa"
      },
      "source": [
        "history = model.fit(X_train, y_train, epochs=30, validation_data=(X_test, y_test), verbose=1)"
      ],
      "execution_count": 51,
      "outputs": [
        {
          "output_type": "stream",
          "name": "stdout",
          "text": [
            "Epoch 1/30\n",
            "4/4 [==============================] - 1s 91ms/step - loss: 1.1463 - accuracy: 0.3524 - val_loss: 1.0239 - val_accuracy: 0.6222\n",
            "Epoch 2/30\n",
            "4/4 [==============================] - 0s 20ms/step - loss: 0.8146 - accuracy: 0.6952 - val_loss: 0.5808 - val_accuracy: 0.7111\n",
            "Epoch 3/30\n",
            "4/4 [==============================] - 0s 22ms/step - loss: 0.7016 - accuracy: 0.6476 - val_loss: 0.4877 - val_accuracy: 0.7111\n",
            "Epoch 4/30\n",
            "4/4 [==============================] - 0s 19ms/step - loss: 0.5260 - accuracy: 0.7048 - val_loss: 0.5807 - val_accuracy: 0.6222\n",
            "Epoch 5/30\n",
            "4/4 [==============================] - 0s 20ms/step - loss: 0.4730 - accuracy: 0.7048 - val_loss: 0.3882 - val_accuracy: 0.9778\n",
            "Epoch 6/30\n",
            "4/4 [==============================] - 0s 20ms/step - loss: 0.3943 - accuracy: 0.8000 - val_loss: 0.3279 - val_accuracy: 0.8889\n",
            "Epoch 7/30\n",
            "4/4 [==============================] - 0s 20ms/step - loss: 0.3432 - accuracy: 0.9048 - val_loss: 0.3475 - val_accuracy: 0.8444\n",
            "Epoch 8/30\n",
            "4/4 [==============================] - 0s 20ms/step - loss: 0.2945 - accuracy: 0.9048 - val_loss: 0.2339 - val_accuracy: 0.9333\n",
            "Epoch 9/30\n",
            "4/4 [==============================] - 0s 19ms/step - loss: 0.3052 - accuracy: 0.8857 - val_loss: 0.2036 - val_accuracy: 0.9333\n",
            "Epoch 10/30\n",
            "4/4 [==============================] - 0s 22ms/step - loss: 0.1917 - accuracy: 0.9524 - val_loss: 0.1482 - val_accuracy: 1.0000\n",
            "Epoch 11/30\n",
            "4/4 [==============================] - 0s 21ms/step - loss: 0.1963 - accuracy: 0.8952 - val_loss: 0.2417 - val_accuracy: 0.9111\n",
            "Epoch 12/30\n",
            "4/4 [==============================] - 0s 19ms/step - loss: 0.3003 - accuracy: 0.8476 - val_loss: 0.1268 - val_accuracy: 0.9778\n",
            "Epoch 13/30\n",
            "4/4 [==============================] - 0s 20ms/step - loss: 0.2158 - accuracy: 0.8952 - val_loss: 0.1669 - val_accuracy: 0.9111\n",
            "Epoch 14/30\n",
            "4/4 [==============================] - 0s 23ms/step - loss: 0.2408 - accuracy: 0.8952 - val_loss: 0.0867 - val_accuracy: 1.0000\n",
            "Epoch 15/30\n",
            "4/4 [==============================] - 0s 20ms/step - loss: 0.1723 - accuracy: 0.9238 - val_loss: 0.1177 - val_accuracy: 0.9333\n",
            "Epoch 16/30\n",
            "4/4 [==============================] - 0s 21ms/step - loss: 0.1496 - accuracy: 0.9429 - val_loss: 0.3025 - val_accuracy: 0.8444\n",
            "Epoch 17/30\n",
            "4/4 [==============================] - 0s 21ms/step - loss: 0.2117 - accuracy: 0.9048 - val_loss: 0.0700 - val_accuracy: 1.0000\n",
            "Epoch 18/30\n",
            "4/4 [==============================] - 0s 19ms/step - loss: 0.2376 - accuracy: 0.9048 - val_loss: 0.0691 - val_accuracy: 1.0000\n",
            "Epoch 19/30\n",
            "4/4 [==============================] - 0s 21ms/step - loss: 0.1138 - accuracy: 0.9619 - val_loss: 0.2406 - val_accuracy: 0.8889\n",
            "Epoch 20/30\n",
            "4/4 [==============================] - 0s 20ms/step - loss: 0.1688 - accuracy: 0.9048 - val_loss: 0.0636 - val_accuracy: 1.0000\n",
            "Epoch 21/30\n",
            "4/4 [==============================] - 0s 20ms/step - loss: 0.1456 - accuracy: 0.9524 - val_loss: 0.0545 - val_accuracy: 1.0000\n",
            "Epoch 22/30\n",
            "4/4 [==============================] - 0s 21ms/step - loss: 0.1285 - accuracy: 0.9429 - val_loss: 0.2074 - val_accuracy: 0.9111\n",
            "Epoch 23/30\n",
            "4/4 [==============================] - 0s 21ms/step - loss: 0.1602 - accuracy: 0.9143 - val_loss: 0.0645 - val_accuracy: 0.9778\n",
            "Epoch 24/30\n",
            "4/4 [==============================] - 0s 22ms/step - loss: 0.1385 - accuracy: 0.9429 - val_loss: 0.0500 - val_accuracy: 1.0000\n",
            "Epoch 25/30\n",
            "4/4 [==============================] - 0s 20ms/step - loss: 0.0971 - accuracy: 0.9524 - val_loss: 0.0870 - val_accuracy: 0.9556\n",
            "Epoch 26/30\n",
            "4/4 [==============================] - 0s 18ms/step - loss: 0.1033 - accuracy: 0.9429 - val_loss: 0.0406 - val_accuracy: 1.0000\n",
            "Epoch 27/30\n",
            "4/4 [==============================] - 0s 22ms/step - loss: 0.0859 - accuracy: 0.9714 - val_loss: 0.0432 - val_accuracy: 1.0000\n",
            "Epoch 28/30\n",
            "4/4 [==============================] - 0s 21ms/step - loss: 0.0879 - accuracy: 0.9619 - val_loss: 0.0424 - val_accuracy: 1.0000\n",
            "Epoch 29/30\n",
            "4/4 [==============================] - 0s 22ms/step - loss: 0.1165 - accuracy: 0.9524 - val_loss: 0.0431 - val_accuracy: 1.0000\n",
            "Epoch 30/30\n",
            "4/4 [==============================] - 0s 22ms/step - loss: 0.1180 - accuracy: 0.9333 - val_loss: 0.0362 - val_accuracy: 1.0000\n"
          ]
        }
      ]
    },
    {
      "cell_type": "code",
      "metadata": {
        "colab": {
          "base_uri": "https://localhost:8080/"
        },
        "id": "Rabyi8xpr_uD",
        "outputId": "f64fac3a-0c47-4ad1-aab5-f3cde3bf5a68"
      },
      "source": [
        "model.evaluate(X_test, y_test)"
      ],
      "execution_count": 52,
      "outputs": [
        {
          "output_type": "stream",
          "name": "stdout",
          "text": [
            "2/2 [==============================] - 0s 9ms/step - loss: 0.0362 - accuracy: 1.0000\n"
          ]
        },
        {
          "output_type": "execute_result",
          "data": {
            "text/plain": [
              "[0.036183930933475494, 1.0]"
            ]
          },
          "metadata": {},
          "execution_count": 52
        }
      ]
    },
    {
      "cell_type": "code",
      "metadata": {
        "colab": {
          "base_uri": "https://localhost:8080/",
          "height": 378
        },
        "id": "wdPnvCFBsDqf",
        "outputId": "f2cb59ae-ea68-4162-a8fb-785cc89383a5"
      },
      "source": [
        "pd.DataFrame(history.history).plot(figsize=(10,6))\n",
        "plt.grid(True)\n",
        "plt.gca().set_ylim(0, 1)\n",
        "plt.show()"
      ],
      "execution_count": 72,
      "outputs": [
        {
          "output_type": "display_data",
          "data": {
            "image/png": "[encoded data removed]",
            "text/plain": [
              "<Figure size 720x432 with 1 Axes>"
            ]
          },
          "metadata": {}
        }
      ]
    },
    {
      "cell_type": "code",
      "metadata": {
        "colab": {
          "base_uri": "https://localhost:8080/"
        },
        "id": "PgUlvAfnsNcQ",
        "outputId": "7cb29fd9-353f-40c6-9d72-6740f3f51783"
      },
      "source": [
        "y_predicted = model.predict(X_test[:10])\n",
        "\n",
        "print(y_test[:10])\n",
        "\n",
        "print(np.argmax(y_predicted, axis=1))"
      ],
      "execution_count": 55,
      "outputs": [
        {
          "output_type": "stream",
          "name": "stdout",
          "text": [
            "[[0. 1. 0.]\n",
            " [0. 0. 1.]\n",
            " [0. 1. 0.]\n",
            " [1. 0. 0.]\n",
            " [0. 1. 0.]\n",
            " [0. 0. 1.]\n",
            " [0. 0. 1.]\n",
            " [0. 1. 0.]\n",
            " [0. 0. 1.]\n",
            " [1. 0. 0.]]\n",
            "[1 2 1 0 1 2 2 1 2 0]\n"
          ]
        }
      ]
    },
    {
      "cell_type": "code",
      "metadata": {
        "id": "B56jtU_ezTZa"
      },
      "source": [
        ""
      ],
      "execution_count": null,
      "outputs": []
    },
    {
      "cell_type": "code",
      "metadata": {
        "id": "bogivsiguWah"
      },
      "source": [
        ""
      ],
      "execution_count": 58,
      "outputs": []
    }
  ]
}